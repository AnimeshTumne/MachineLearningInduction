{
 "cells": [
  {
   "cell_type": "markdown",
   "id": "0e0ad652-96ac-42bf-aff7-86f3c228d74f",
   "metadata": {},
   "source": [
    "Q1. How many multiplications and additions do you need to perform a matrix multiplication between a (n, k) and (k, m) matrix? Explain."
   ]
  },
  {
   "cell_type": "markdown",
   "id": "46e3f958-f063-40e9-8d2c-33d398ef6a88",
   "metadata": {},
   "source": [
    "For each element in the resulting (n,m) matrix, there will be k multiplications and k-1 additions. (k row elements multiplied by k column elements)\n",
    "So, in total, there will be (n*m*k) multiplications and n*m*(k-1) additions."
   ]
  },
  {
   "cell_type": "markdown",
   "id": "a098150e-2f4d-4c85-95c2-28808c642d75",
   "metadata": {},
   "source": [
    "Q2. Write Python code to multiply the above two matrices. Solve using list of lists and then use numpy. Compare the timing of both solutions. Which one is faster? Why?"
   ]
  },
  {
   "cell_type": "code",
   "execution_count": 86,
   "id": "27bf8147-f8e6-447b-b739-b45b56c53931",
   "metadata": {
    "scrolled": true
   },
   "outputs": [
    {
     "name": "stdout",
     "output_type": "stream",
     "text": [
      "Time taken for Python's list method: 0.5498065948486328 seconds\n",
      "Time taken for NumPy method: 0.0 seconds\n"
     ]
    }
   ],
   "source": [
    "try:\n",
    "    import time\n",
    "    import numpy as np\n",
    "except ImportError:\n",
    "    !pip install time numpy\n",
    "    import time\n",
    "    import numpy as np\n",
    "# ---------------------------------------\n",
    "\n",
    "\n",
    "#1. Matrix multiplication using Python's lists\n",
    "def matrixMultList(a, b):\n",
    "    result = []\n",
    "    for i in range(len(a)):\n",
    "        row = []\n",
    "        for j in range(len(b[0])):\n",
    "            val = 0\n",
    "            for k in range(len(b)):\n",
    "                val += a[i][k] * b[k][j]\n",
    "            row.append(val)\n",
    "        result.append(row)\n",
    "    return result\n",
    "\n",
    "# 2. Matrix multiplication using NumPy\n",
    "def matrixMultNumpy(a, b):\n",
    "    return np.dot(a, b)\n",
    "\n",
    "# Generating random matrices\n",
    "matrixA = np.random.rand(50, 800)\n",
    "matrixB = np.random.rand(800, 180)\n",
    "\n",
    "# Calculating the matirx multiplication using method 1 and measuring time\n",
    "startTime1 = time.time()\n",
    "resultList = matrixMultList(matrixA.tolist(), matrixB.tolist())\n",
    "endTime1 = time.time()\n",
    "method1Time = endTime1 - startTime1\n",
    "\n",
    "# Calculating the matirx multiplication using method 2 and measuring time\n",
    "startTime2 = time.time()\n",
    "resultNumpy = matrixMultNumpy(matrixA, matrixB)\n",
    "endTime2 = time.time()\n",
    "method2Time = endTime2 - startTime2\n",
    "\n",
    "# print(\"Matrix multiplication result using Python's lists:\\n\", np.array(resultList))\n",
    "print(\"Time taken for Python's list method:\", method1Time, \"seconds\")\n",
    "\n",
    "# print(\"\\nMatrix multiplication result using NumPy:\\n\", resultNumpy)\n",
    "print(\"Time taken for NumPy method:\", method2Time, \"seconds\")"
   ]
  },
  {
   "cell_type": "markdown",
   "id": "6ce4a237-7d96-4002-9fb3-39aac24455e3",
   "metadata": {},
   "source": [
    "Q3. Finding the highest element in a list requires one pass of the array. Finding the second highest element requires 2 passes of the the array. Using this method, what is the time complexity of finding the median of the array? Can you suggest a better method? Can you implement both these methods in Python and compare against numpy.median routine in terms of time?"
   ]
  },
  {
   "cell_type": "markdown",
   "id": "b5093169-04ef-4b7f-a583-e0e6ca7da494",
   "metadata": {},
   "source": [
    "Answer: The aforementioned method, if used, suggests by induction that to calculate the median element, we need to pass over the array at least $n/2$  times (since the median is the middle-most element), and each pass takes $O(n)$ time - Thus the total time complexity of the problem is $O(n*n/2) = O(n^2)$.\n",
    "\n",
    "A better solution to the problem would be to sort the array, which takes $O(n*\\log(n))$ time, and then directly access the $n/2$th element directly in $O(1)$ time. \n",
    "\n",
    "The code is given in the block below:"
   ]
  },
  {
   "cell_type": "code",
   "execution_count": 78,
   "id": "af465615-78d8-4ccb-a5e7-ae5f7331cb1b",
   "metadata": {},
   "outputs": [
    {
     "name": "stdout",
     "output_type": "stream",
     "text": [
      "Time taken for n/2 passes method: 3.584594488143921 seconds\n",
      "Time taken for NumPy's median method: 0.0005064010620117188 seconds\n"
     ]
    }
   ],
   "source": [
    "try:\n",
    "    import time\n",
    "    import numpy as np\n",
    "except ImportError:\n",
    "    !pip install time numpy\n",
    "    import time\n",
    "    import numpy as np\n",
    "\n",
    "# Method 1: Finding Median with n/2 Passes\n",
    "def medianNPasses(data):\n",
    "    n = len(data)\n",
    "    for i in range(n // 2):\n",
    "        minIdx = i\n",
    "        for j in range(i + 1, n):\n",
    "            if data[j] < data[minIdx]:\n",
    "                minIdx = j\n",
    "        data[i], data[minIdx] = data[minIdx], data[i]\n",
    "    if n % 2 == 0:\n",
    "        return (data[n // 2 - 1] + data[n // 2]) / 2\n",
    "    else:\n",
    "        return data[n // 2]\n",
    "\n",
    "# Method 2: Using numpy.median()\n",
    "def medianNumpy(data):\n",
    "    return np.median(data)\n",
    "\n",
    "# Generating a sample array of numbers\n",
    "arraySize = 7000\n",
    "sampleArray = np.random.rand(arraySize)\n",
    "\n",
    "startTime1 = time.time()\n",
    "median1 = medianNPasses(sampleArray.copy())\n",
    "endTime1 = time.time()\n",
    "method1Time = endTime1 - startTime1\n",
    "\n",
    "startTime2 = time.time()\n",
    "median2 = medianNumpy(sampleArray.copy())\n",
    "endTime2 = time.time()\n",
    "method2Time = endTime2 - startTime2\n",
    "\n",
    "# print(\"Median calculated using n/2 passes method:\", median1)\n",
    "print(\"Time taken for n/2 passes method:\", method1Time, \"seconds\")\n",
    "\n",
    "# print(\"\\nMedian calculated using NumPy's median method:\", median2)\n",
    "print(\"Time taken for NumPy's median method:\", method2Time, \"seconds\")\n"
   ]
  },
  {
   "cell_type": "markdown",
   "id": "540e8f2d-d297-490a-9b1b-f5b25edcd0a8",
   "metadata": {},
   "source": [
    "Q4.What is the gradient of the following function with respect to x and y? \n",
    "$$    x^2y+y^3\\sin(x)\n",
    "$$"
   ]
  },
  {
   "cell_type": "markdown",
   "id": "88ff25a5-c42d-4832-898d-5d53c3a003f7",
   "metadata": {},
   "source": [
    "With respect to x, gradient is:\n",
    "$$\n",
    "df/dx = 2xy + y^3\\cos(x)\n",
    "$$\n",
    "\n",
    "With respect to y, gradient is:\n",
    "$$\n",
    "df/dy = x^2 + 3y^2\\sin(x)\n",
    "$$"
   ]
  },
  {
   "cell_type": "markdown",
   "id": "825bd76a-5912-49ce-b795-8d5f5ae0b0ea",
   "metadata": {},
   "source": [
    "Q5. Use JAX to confirm the gradient evaluated by your method matches the analytical solution corresponding to a few random values of x and y"
   ]
  },
  {
   "cell_type": "code",
   "execution_count": 39,
   "id": "335d0e45-e32b-4958-8280-32dd4b774442",
   "metadata": {},
   "outputs": [
    {
     "name": "stdout",
     "output_type": "stream",
     "text": [
      "JAX Gradients:\n",
      "[20.588161 23.719715]\n",
      "[-32.018356  72.1973  ]\n",
      "[-297.5674    29.74464]\n",
      "[-270.66553 -129.30608]\n",
      "[ 296.78973 -208.0186 ]\n",
      "Analytical Gradients:\n",
      " [[  20.588161  -32.018356 -297.5674   -270.66553   296.78973 ]\n",
      " [  23.719715   72.1973     29.74464  -129.30608  -208.0186  ]]\n"
     ]
    }
   ],
   "source": [
    "# using JAX, gradient evaluated:\n",
    "try:\n",
    "    import numpy as np\n",
    "    import jax\n",
    "    import jax.numpy as jnp\n",
    "except ImportError:\n",
    "    !pip install numpy jax jaxlib\n",
    "    import numpy as np\n",
    "    import jax\n",
    "    import jax.numpy as jnp\n",
    "# -------------------------------------------------------\n",
    "\n",
    "def f(x):\n",
    "    return x[0]**2 * x[1] + x[1]**3 * jnp.sin(x[0])\n",
    "\n",
    "# analytical gradients\n",
    "def gradX(x):\n",
    "    return 2 * x[0] * x[1] + x[1]**3 * jnp.cos(x[0])\n",
    "\n",
    "def gradY(x):\n",
    "    return x[0]**2 + 3 * x[1]**2 * jnp.sin(x[0])\n",
    "\n",
    "# jax gradient\n",
    "gradientF = jax.grad(f)\n",
    "\n",
    "# xVal = [1.0,2.0,3.0,4.0,5.0]\n",
    "# yVal = [3.0,5.0,7.0,8.0,9.0]\n",
    "\n",
    "inputVariables = jnp.array([xVal, yVal])\n",
    "\n",
    "# jaxGradient = gradientF(inputVariables)\n",
    "jaxGradients = []\n",
    "print(\"JAX Gradients:\")\n",
    "for x, y in zip(xVal, yVal):\n",
    "    jaxGradient = gradientF(jnp.array([x, y]))\n",
    "    jaxGradients.append(jaxGradient)\n",
    "    print(f\"{jaxGradient}\")\n",
    "\n",
    "jaxGradients = jnp.array(jaxGradients)\n",
    "\n",
    "# analyticalGradient = jnp.array(gradX(inputVariables), gradY(inputVariables) )\n",
    "analyticalX = gradX(inputVariables)\n",
    "analyticalY = gradY(inputVariables)\n",
    "\n",
    "analyticalGradients = jnp.stack([analyticalX, analyticalY])\n",
    "\n",
    "# print(\"JAX Gradients:\", jaxGradient)\n",
    "print(\"Analytical Gradients:\\n\", analyticalGradients)\n"
   ]
  },
  {
   "cell_type": "markdown",
   "id": "30f81aac-5be6-4e3a-a6dd-f3787eab766f",
   "metadata": {},
   "source": [
    "Q6. Use sympy to confirm that you obtain the same gradient analytically."
   ]
  },
  {
   "cell_type": "code",
   "execution_count": 44,
   "id": "77a2e24f-b005-4bbd-a508-399c9ad37e8c",
   "metadata": {},
   "outputs": [
    {
     "name": "stdout",
     "output_type": "stream",
     "text": [
      "Partial derivative with respect to x: 2*x*y + y**3*cos(x)\n",
      "Partial derivative with respect to y: x**2 + 3*y**2*sin(x)\n"
     ]
    }
   ],
   "source": [
    "try:\n",
    "    from sympy import symbols, diff, sin\n",
    "except ImportError:\n",
    "    !pip install sympy\n",
    "    from sympy import symbols, diff, sin\n",
    "\n",
    "# Define the symbol\n",
    "x = symbols('x')\n",
    "\n",
    "# Define the function f(x)\n",
    "f = x**2 * symbols('y') + symbols('y')**3 * sin(x)\n",
    "\n",
    "# Calculate the partial derivatives with respect to x and y\n",
    "xPartialDerivative = diff(f, x)\n",
    "yPartialDerivative = diff(f, symbols('y'))\n",
    "\n",
    "print(\"Partial derivative with respect to x:\", xPartialDerivative)\n",
    "print(\"Partial derivative with respect to y:\", yPartialDerivative)\n"
   ]
  },
  {
   "cell_type": "markdown",
   "id": "7f06a984-af3f-4182-a9a4-82636709d77e",
   "metadata": {},
   "source": [
    "Q7. Create a Python nested dictionary to represent hierarchical information. We want to store record of students and their marks\n"
   ]
  },
  {
   "cell_type": "code",
   "execution_count": 32,
   "id": "78d88e46-2046-4adc-ab05-50a0baea18db",
   "metadata": {},
   "outputs": [],
   "source": [
    "myMarksDict = {\n",
    "    '2022':{\n",
    "        'ComputerScience':{\n",
    "            'rollNumber':'22110001', 'fullName': 'Arvind', 'marksObtained':{\n",
    "                'english':'10',\n",
    "                'maths':'100'\n",
    "                # add appropriate subjects as necessary\n",
    "            } \n",
    "        },\n",
    "        'ElectricalicalEngineering':{},\n",
    "        # fill in the appropriate engineering fields as required.\n",
    "        # add appropirate subjects as required\n",
    "    },\n",
    "    '2023':{},\n",
    "    '2024':{},\n",
    "    '2025':{}\n",
    "    # add appropriate years as required\n",
    "}"
   ]
  },
  {
   "cell_type": "markdown",
   "id": "8d7df829-1ffe-47ad-98e4-ffe977deed73",
   "metadata": {},
   "source": [
    "Q8. Store the same information using Python classes. We have an overall database which is a list of year objects. Each year contains a list of branches. Each branch contains a list of students. Each student has some properties like name, roll number and has marks in some subjects."
   ]
  },
  {
   "cell_type": "code",
   "execution_count": 87,
   "id": "98eb7171-98eb-4fc3-87da-d39a6428ecd2",
   "metadata": {},
   "outputs": [
    {
     "name": "stdout",
     "output_type": "stream",
     "text": [
      "Year: 2022\n",
      "\tBranch: ComputerScience\n",
      "\t\tStudent: Arvind - Roll Number: 22110001\n",
      "\t\t\tMarks:\n",
      "\t\t\t\tenglish: 10\n",
      "\t\t\t\tmaths: 100\n",
      "\tBranch: ElectricalEngineering\n",
      "Year: 2023\n",
      "Year: 2024\n",
      "Year: 2025\n"
     ]
    }
   ],
   "source": [
    "class Student:\n",
    "    def __init__(self, rollNumber, fullName):\n",
    "        self.rollNumber = rollNumber\n",
    "        self.fullName = fullName\n",
    "        self.marksObtained = {}\n",
    "\n",
    "    def addMark(self, subject, mark):\n",
    "        self.marksObtained[subject] = mark\n",
    "\n",
    "class Branch:\n",
    "    def __init__(self, branchName):\n",
    "        self.branchName = branchName\n",
    "        self.students = []\n",
    "\n",
    "    def addStudent(self, student):\n",
    "        self.students.append(student)\n",
    "\n",
    "class Year:\n",
    "    def __init__(self, year):\n",
    "        self.year = year\n",
    "        self.branches = []\n",
    "\n",
    "    def addBranch(self, branch):\n",
    "        self.branches.append(branch)\n",
    "\n",
    "# Creating instances of the classes and adding data\n",
    "year2022 = Year('2022')\n",
    "\n",
    "compSci = Branch('ComputerScience')\n",
    "compSciStudent = Student('22110001', 'Arvind')\n",
    "compSciStudent.addMark('english', '10')\n",
    "compSciStudent.addMark('maths', '100')\n",
    "compSci.addStudent(compSciStudent)\n",
    "\n",
    "elecEng = Branch('ElectricalEngineering')\n",
    "# Add students or details for ElectricalEngineering as needed\n",
    "\n",
    "year2022.addBranch(compSci)\n",
    "year2022.addBranch(elecEng)\n",
    "\n",
    "# Creating a database as a list of year objects\n",
    "database = [year2022, Year('2023'), Year('2024'), Year('2025')]\n",
    "# Add more years or modify data as needed\n",
    "\n",
    "\n",
    "for year in database:\n",
    "    print(f\"Year: {year.year}\")\n",
    "    for branch in year.branches:\n",
    "        print(f\"\\tBranch: {branch.branchName}\")\n",
    "        for student in branch.students:\n",
    "            print(f\"\\t\\tStudent: {student.fullName} - Roll Number: {student.rollNumber}\")\n",
    "            print(\"\\t\\t\\tMarks:\")\n",
    "            for subject, mark in student.marksObtained.items():\n",
    "                print(f\"\\t\\t\\t\\t{subject}: {mark}\")\n",
    "# Add required classes to the database object as required using the class methods and check by printing"
   ]
  },
  {
   "cell_type": "markdown",
   "id": "70640456-93c4-4e84-8f94-81c3d28326a3",
   "metadata": {},
   "source": [
    "Q9. Using matplotlib plot the following functions on the domain: x = 0.5 to 100.0 in steps of 0.5.\n",
    "\n",
    "$$\n",
    "y = x\n",
    "$$\n",
    "$$\n",
    "y = x^2\n",
    "$$\n",
    "$$\n",
    "y = \\frac{x^3}{100}\n",
    "$$\n",
    "$$\n",
    "y = \\sin(x)\n",
    "$$\n",
    "$$\n",
    "y = \\frac{\\sin(x)}{x}\n",
    "$$\n",
    "$$\n",
    "y = \\log(x)\n",
    "$$\n",
    "$$\n",
    "y = e^x\n",
    "$$"
   ]
  },
  {
   "cell_type": "code",
   "execution_count": 56,
   "id": "8dd32900-906a-4c1a-950c-f45982202213",
   "metadata": {},
   "outputs": [
    {
     "data": {
      "image/png": "[encoded data removed]",
      "text/plain": [
       "<Figure size 800x600 with 1 Axes>"
      ]
     },
     "metadata": {},
     "output_type": "display_data"
    }
   ],
   "source": [
    "try:\n",
    "    import matplotlib.pyplot as plt\n",
    "    import numpy as np\n",
    "except ImportError:\n",
    "    !pip install matplotlib numpy\n",
    "    import matplotlib.pyplot as plt\n",
    "    import numpy as np\n",
    "\n",
    "# Different functions of x - activate as you like\n",
    "def f(x):\n",
    "    # return x\n",
    "    # return x**2\n",
    "    # return 0.001*x**3\n",
    "    # return np.sin(x)\n",
    "    # return np.sin(x) / x  \n",
    "    return np.log(x)\n",
    "    # return np.exp(x)\n",
    "\n",
    "# Defining the domain\n",
    "xValues = np.arange(0.5, 100.1, 0.5)\n",
    "\n",
    "# Calculate the corresponding function values\n",
    "yValues = f(x_values)\n",
    "\n",
    "# Plot the function\n",
    "plt.figure(figsize=(8, 6))\n",
    "plt.plot(xValues, yValues, label = \"y = f(x)\" )  \n",
    "plt.xlabel('x')\n",
    "plt.ylabel('y = f(x)')\n",
    "plt.title('Plot of y')\n",
    "plt.legend()\n",
    "plt.grid(True)\n",
    "plt.show()\n"
   ]
  },
  {
   "cell_type": "markdown",
   "id": "aa6a0a8d-18ac-42c7-96ed-4bddde1bd3d4",
   "metadata": {},
   "source": [
    "Q10. Using numpy generate a matrix of size 20X5 containing random numbers drawn uniformly from the range of 1 to 2. Using Pandas create a dataframe out of this matrix. Name the columns of the dataframe as “a”, “b”, “c”, “d”, “e”. Find the column with the highest standard deviation. Find the row with the lowest mean.\n",
    "\n",
    "Q11. Add a new column to the dataframe called “f” which is the sum of the columns “a”, “b”, “c”, “d”, “e”. Create another column called “g”. The value in the column “g” should be “LT8” if the value in the column “f” is less than 8 and “GT8” otherwise. Find the number of rows in the dataframe where the value in the column “g” is “LT8”. Find the standard deviation of the column “f” for the rows where the value in the column “g” is “LT8” and “GT8” respectively."
   ]
  },
  {
   "cell_type": "code",
   "execution_count": 80,
   "id": "8c7b54c4-e988-4e98-960c-f0aed0000207",
   "metadata": {},
   "outputs": [
    {
     "name": "stdout",
     "output_type": "stream",
     "text": [
      "Column with highest deviation is: c\n",
      "Row number with lowest deviation is: 8\n",
      "DataFrame with new columns 'f' and 'g':\n",
      "           a         b         c         d         e         f    g\n",
      "0   1.922546  1.413657  1.495244  1.263682  1.959051  8.054180  GT8\n",
      "1   1.570954  1.668115  1.402700  1.879534  1.010796  7.532099  LT8\n",
      "2   1.702653  1.172401  1.410717  1.034864  1.482974  6.803609  LT8\n",
      "3   1.657213  1.805520  1.246527  1.354241  1.635431  7.698931  LT8\n",
      "4   1.926123  1.066135  1.773882  1.760074  1.595369  8.121582  GT8\n",
      "5   1.325206  1.102780  1.081174  1.639739  1.397056  6.545955  LT8\n",
      "6   1.603777  1.351663  1.914076  1.347994  1.742321  7.959832  LT8\n",
      "7   1.229164  1.088984  1.966617  1.722506  1.873082  7.880352  LT8\n",
      "8   1.043291  1.181569  1.423575  1.082499  1.062737  5.793670  LT8\n",
      "9   1.727860  1.385016  1.822359  1.259766  1.732698  7.927699  LT8\n",
      "10  1.311795  1.437563  1.711885  1.250431  1.772939  7.484613  LT8\n",
      "11  1.182294  1.357443  1.821472  1.676232  1.372277  7.409718  LT8\n",
      "12  1.696091  1.966006  1.425697  1.903407  1.364882  8.356083  GT8\n",
      "13  1.613065  1.508227  1.864133  1.906469  1.537954  8.429848  GT8\n",
      "14  1.251524  1.317026  1.310744  1.853487  1.430280  7.163060  LT8\n",
      "15  1.307357  1.606744  1.070532  1.364290  1.017650  6.366572  LT8\n",
      "16  1.560379  1.367072  1.118670  1.571909  1.414421  7.032451  LT8\n",
      "17  1.958298  1.099953  1.002595  1.512221  1.816493  7.389561  LT8\n",
      "18  1.667906  1.882582  1.012319  1.507767  1.904863  7.975436  LT8\n",
      "19  1.332336  1.845635  1.627203  1.465359  1.055048  7.325581  LT8\n",
      "Number of rows where 'g' is 'LT8': 16\n",
      "Standard deviation of column 'f' for 'LT8': 0.62820107360512\n",
      "Standard deviation of column 'f' for 'GT8': 0.18080247893809367\n"
     ]
    }
   ],
   "source": [
    "try:\n",
    "    import numpy as np\n",
    "    import pandas as pd\n",
    "except ImportError:\n",
    "    !pip install numpy pandas\n",
    "    import numpy as np\n",
    "    import pandas as pd\n",
    "# The above code installs modules if any installation error occurs\n",
    "\n",
    "# Q10\n",
    "# -------------------------------------------------------------------------------------------\n",
    "randomMatrix = np.random.uniform(low = 1, high = 2, size = (20,5))\n",
    "# the above code generates a matrix, of size 20x5, with numbers between (1,2).\n",
    "# print(randomMatrix)\n",
    "\n",
    "dataFrame = pd.DataFrame(randomMatrix, columns=['a', 'b', 'c', 'd', 'e'])\n",
    "# print(dataFrame)\n",
    "columnStandardDeviation = dataFrame.std()\n",
    "# print(columnStandardDeviation)\n",
    "highestDeviation = columnStandardDeviation.idxmax()\n",
    "print(f\"Column with highest deviation is: {highestDeviation}\")\n",
    "# prinst the required column with highest deviation \n",
    "\n",
    "rowMean = dataFrame.mean(axis = 1)\n",
    "lowestMean = rowMean.idxmin()\n",
    "print(f\"Row number with lowest deviation is: {lowestMean}\")\n",
    "# similar method as above implemented to find lowest mean row\n",
    "\n",
    "\n",
    "# Q11\n",
    "#-------------------------------------------------------------------------------------------\n",
    "\n",
    "# Task 1: Add a new column 'f' as the sum of columns 'a', 'b', 'c', 'd', 'e'\n",
    "dataFrame['f'] = dataFrame[['a', 'b', 'c', 'd', 'e']].sum(axis=1)\n",
    "\n",
    "# Task 2: Create column 'g' with 'LT8' if 'f' < 8 else 'GT8'\n",
    "dataFrame['g'] = np.where(dataFrame['f'] < 8, 'LT8', 'GT8')\n",
    "\n",
    "# Task 3: Count rows where 'g' is 'LT8'\n",
    "LT8Count = (dataFrame['g'] == 'LT8').sum()\n",
    "\n",
    "# Task 4: Finding the standard deviation of column 'f' for 'LT8' and 'GT8' rows respectively\n",
    "stdLT8 = dataFrame[dataFrame['g'] == 'LT8']['f'].std()\n",
    "stdGT8 = dataFrame[dataFrame['g'] == 'GT8']['f'].std()\n",
    "\n",
    "# Displaying the results\n",
    "print(\"DataFrame with new columns 'f' and 'g':\")\n",
    "print(dataFrame)\n",
    "\n",
    "\n",
    "print(f\"Number of rows where 'g' is 'LT8': {LT8Count}\")\n",
    "\n",
    "\n",
    "print(f\"Standard deviation of column 'f' for 'LT8': {stdLT8}\")\n",
    "print(f\"Standard deviation of column 'f' for 'GT8': {stdGT8}\")\n",
    "\n"
   ]
  },
  {
   "cell_type": "markdown",
   "id": "8b82ae00-6300-425f-a073-d16b8097e309",
   "metadata": {},
   "source": [
    "Q12.Write a small piece of code to explain broadcasting in numpy."
   ]
  },
  {
   "cell_type": "code",
   "execution_count": 81,
   "id": "2e4be3ba-4406-472b-88f9-334484ba08c7",
   "metadata": {},
   "outputs": [
    {
     "name": "stdout",
     "output_type": "stream",
     "text": [
      "Example 1 - Broadcasting a scalar to an array:\n",
      "[[16 17 18]\n",
      " [19 20 21]]\n",
      "\n",
      "Example 2 - Broadcasting arrays of different shapes:\n",
      "[[11 22 33]\n",
      " [14 25 36]]\n",
      "\n",
      "Example 3 - Broadcasting arrays with different dimensions:\n",
      "[[11 12 13]\n",
      " [21 22 23]]\n"
     ]
    }
   ],
   "source": [
    "try:\n",
    "    import numpy as np\n",
    "except ImportError:\n",
    "    !pip install numpy\n",
    "    import numpy as np\n",
    "\n",
    "# Example 1: Broadcasting a scalar to an array\n",
    "arr = np.array([[1, 2, 3], [4, 5, 6]])\n",
    "scalar = 15\n",
    "\n",
    "resultScalarBroadcast = arr + scalar\n",
    "\n",
    "print(\"Example 1 - Broadcasting a scalar to an array:\")\n",
    "print(resultScalarBroadcast)\n",
    "print()\n",
    "# added the scalar to each element of the present array\n",
    "\n",
    "# Example 2: Broadcasting arrays of different shapes\n",
    "arr1 = np.array([[1, 2, 3], [4, 5, 6]])\n",
    "arr2 = np.array([10, 20, 30])\n",
    "# added the second array element-wise to each element of the previous two arrays\n",
    "\n",
    "resultShapeBroadcast = arr1 + arr2\n",
    "print(\"Example 2 - Broadcasting arrays of different shapes:\")\n",
    "print(resultShapeBroadcast)\n",
    "print()\n",
    "\n",
    "# Example 3: Broadcasting arrays with different dimensions\n",
    "arr3 = np.array([[1, 2, 3]])\n",
    "arr4 = np.array([[10], [20]])\n",
    "\n",
    "resultDimensionBroadcast = arr3 + arr4\n",
    "print(\"Example 3 - Broadcasting arrays with different dimensions:\")\n",
    "print(resultDimensionBroadcast)\n",
    "# resulting afrray is a combination of the sizes of arrays that are added "
   ]
  },
  {
   "cell_type": "markdown",
   "id": "d09f9b6a-9dcd-4836-99cc-0cbd15f11f89",
   "metadata": {},
   "source": [
    "Q13. Write a function to compute the argmin of a numpy array. The function should take a numpy array as input and return the index of the minimum element. You can use the np.argmin function to verify your solution.\n",
    "\n"
   ]
  },
  {
   "cell_type": "code",
   "execution_count": 84,
   "id": "490ee091-b4f6-4bf0-be52-c2bd27fbbead",
   "metadata": {},
   "outputs": [
    {
     "name": "stdout",
     "output_type": "stream",
     "text": [
      "Index of the minimum element using our function: 3\n",
      "Verifying with np.argmin() function: 3\n"
     ]
    }
   ],
   "source": [
    "try:\n",
    "    import numpy as np\n",
    "except ImportError:\n",
    "    !pip install numpy\n",
    "    import numpy as np\n",
    "\n",
    "def computeArgmin(arr):\n",
    "    minIndex = 0  # Initialise index of minimum element\n",
    "    minVal = arr[0]  # Initialise minimum value with first element\n",
    "\n",
    "    # Loop through the array to find the minimum value and its index\n",
    "    for i in range(1, len(arr)):\n",
    "        if arr[i] < minVal:\n",
    "            minVal = arr[i]\n",
    "            minIndex = i\n",
    "\n",
    "    return minIndex\n",
    "\n",
    "# Test the function with a NumPy array emthods\n",
    "numpyArray = np.array([7, 2, 9, 1, 5])\n",
    "argminIndex = computeArgmin(numpyArray)\n",
    "\n",
    "print(\"Index of the minimum element using our function:\", argminIndex)\n",
    "print(\"Verifying with np.argmin() function:\", np.argmin(numpyArray))\n"
   ]
  }
 ],
 "metadata": {
  "kernelspec": {
   "display_name": "Python 3 (ipykernel)",
   "language": "python",
   "name": "python3"
  },
  "language_info": {
   "codemirror_mode": {
    "name": "ipython",
    "version": 3
   },
   "file_extension": ".py",
   "mimetype": "text/x-python",
   "name": "python",
   "nbconvert_exporter": "python",
   "pygments_lexer": "ipython3",
   "version": "3.11.3"
  }
 },
 "nbformat": 4,
 "nbformat_minor": 5
}
